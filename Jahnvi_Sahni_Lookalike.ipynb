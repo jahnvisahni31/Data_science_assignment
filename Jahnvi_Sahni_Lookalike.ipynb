{
  "nbformat": 4,
  "nbformat_minor": 0,
  "metadata": {
    "colab": {
      "provenance": []
    },
    "kernelspec": {
      "name": "python3",
      "display_name": "Python 3"
    },
    "language_info": {
      "name": "python"
    }
  },
  "cells": [
    {
      "cell_type": "code",
      "execution_count": 1,
      "metadata": {
        "id": "j1dLuO0TNN14"
      },
      "outputs": [],
      "source": [
        "import pandas as pd\n",
        "from sklearn.metrics.pairwise import cosine_similarity\n",
        "from sklearn.preprocessing import StandardScaler, OneHotEncoder\n",
        "from sklearn.compose import ColumnTransformer\n",
        "from sklearn.pipeline import Pipeline\n",
        "from sklearn.impute import SimpleImputer"
      ]
    },
    {
      "cell_type": "code",
      "source": [
        "customers = pd.read_csv('Customers.csv')\n",
        "transactions = pd.read_csv('Transactions.csv')\n",
        "products = pd.read_csv('Products.csv')"
      ],
      "metadata": {
        "id": "rFx-0EM0NXfg"
      },
      "execution_count": 2,
      "outputs": []
    },
    {
      "cell_type": "code",
      "source": [
        "# Feature Engineering\n",
        "def create_features(customers, transactions, products):\n",
        "    # Merge data\n",
        "    data = transactions.merge(customers, on='CustomerID').merge(products, on='ProductID')\n",
        "\n",
        "    # Aggregate features\n",
        "    features = data.groupby('CustomerID').agg({\n",
        "        'TotalValue': ['mean', 'sum'],\n",
        "        'ProductID': 'count',\n",
        "        'Category': lambda x: x.mode()[0]\n",
        "    }).reset_index()\n",
        "\n",
        "    features.columns = ['CustomerID', 'AvgTransactionValue', 'TotalSpend', 'PurchaseCount', 'FavoriteCategory']\n",
        "    return features\n",
        "\n",
        "features = create_features(customers, transactions, products)"
      ],
      "metadata": {
        "id": "l21SMq53Ng-q"
      },
      "execution_count": 3,
      "outputs": []
    },
    {
      "cell_type": "code",
      "source": [
        "# Preprocessing\n",
        "preprocessor = ColumnTransformer(\n",
        "    transformers=[\n",
        "        ('num', Pipeline(steps=[\n",
        "            ('imputer', SimpleImputer(strategy='mean')),\n",
        "            ('scaler', StandardScaler())\n",
        "        ]), ['AvgTransactionValue', 'TotalSpend', 'PurchaseCount']),\n",
        "        ('cat', OneHotEncoder(), ['FavoriteCategory'])\n",
        "    ])\n",
        "\n",
        "# Transform features\n",
        "X = preprocessor.fit_transform(features)"
      ],
      "metadata": {
        "id": "GPs9Z939Nj6S"
      },
      "execution_count": 4,
      "outputs": []
    },
    {
      "cell_type": "code",
      "source": [
        "# Calculate similarity\n",
        "similarity_matrix = cosine_similarity(X)\n",
        "\n",
        "# Get top 3 lookalikes for each customer\n",
        "lookalikes = {}\n",
        "for idx, customer_id in enumerate(features['CustomerID']):\n",
        "    similar_indices = similarity_matrix[idx].argsort()[-4:-1][::-1]  # Exclude self\n",
        "    similar_customers = [(features['CustomerID'][i], similarity_matrix[idx][i]) for i in similar_indices]\n",
        "    lookalikes[customer_id] = similar_customers"
      ],
      "metadata": {
        "id": "T8h18d4PNnED"
      },
      "execution_count": 5,
      "outputs": []
    },
    {
      "cell_type": "code",
      "source": [
        "lookalike_df = pd.DataFrame({\n",
        "    'CustomerID': list(lookalikes.keys()),\n",
        "    'Lookalikes': [str(v) for v in lookalikes.values()]\n",
        "})\n",
        "\n",
        "lookalike_df.to_csv('Jahnvi_sahni_Lookalike.csv', index=False)"
      ],
      "metadata": {
        "id": "f-3QlggjNpgo"
      },
      "execution_count": 6,
      "outputs": []
    },
    {
      "cell_type": "code",
      "source": [
        "print(lookalike_df.head(20))"
      ],
      "metadata": {
        "colab": {
          "base_uri": "https://localhost:8080/"
        },
        "id": "wbbzyLWDNsSA",
        "outputId": "b8b6cd16-2a60-4e06-e31a-ad021381f86f"
      },
      "execution_count": 7,
      "outputs": [
        {
          "output_type": "stream",
          "name": "stdout",
          "text": [
            "   CustomerID                                         Lookalikes\n",
            "0       C0001  [('C0072', 0.946105176936384), ('C0190', 0.941...\n",
            "1       C0002  [('C0029', 0.9993708548979269), ('C0010', 0.99...\n",
            "2       C0003  [('C0178', 0.999865879448906), ('C0052', 0.975...\n",
            "3       C0004  [('C0021', 0.9997310950937549), ('C0101', 0.99...\n",
            "4       C0005  [('C0112', 0.997617843800819), ('C0197', 0.995...\n",
            "5       C0006  [('C0117', 0.9968489322097402), ('C0168', 0.97...\n",
            "6       C0007  [('C0120', 0.9949897643552799), ('C0140', 0.97...\n",
            "7       C0008  [('C0113', 0.9322254762561094), ('C0124', 0.90...\n",
            "8       C0009  [('C0077', 0.9997899920904881), ('C0083', 0.99...\n",
            "9       C0010  [('C0029', 0.99957123050574), ('C0002', 0.9979...\n",
            "10      C0011  [('C0064', 0.9663847037168202), ('C0137', 0.92...\n",
            "11      C0012  [('C0104', 0.9718143504908033), ('C0059', 0.94...\n",
            "12      C0013  [('C0143', 0.9999265905268068), ('C0099', 0.98...\n",
            "13      C0014  [('C0128', 0.9961184019336934), ('C0151', 0.99...\n",
            "14      C0015  [('C0132', 0.9849940816818186), ('C0036', 0.98...\n",
            "15      C0016  [('C0183', 0.9997857762658624), ('C0107', 0.97...\n",
            "16      C0017  [('C0004', 0.9734437011787769), ('C0090', 0.97...\n",
            "17      C0018  [('C0187', 0.9978161255725859), ('C0171', 0.99...\n",
            "18      C0019  [('C0116', 0.9791171467140272), ('C0047', 0.94...\n",
            "19      C0020  [('C0140', 0.9796729281741055), ('C0120', 0.94...\n"
          ]
        }
      ]
    }
  ]
}